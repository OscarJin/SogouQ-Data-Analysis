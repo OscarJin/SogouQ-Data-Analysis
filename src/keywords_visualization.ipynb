{
 "cells": [
  {
   "cell_type": "code",
   "execution_count": 1,
   "id": "499237b5",
   "metadata": {},
   "outputs": [
    {
     "data": {
      "text/html": [
       "<div>\n",
       "<style scoped>\n",
       "    .dataframe tbody tr th:only-of-type {\n",
       "        vertical-align: middle;\n",
       "    }\n",
       "\n",
       "    .dataframe tbody tr th {\n",
       "        vertical-align: top;\n",
       "    }\n",
       "\n",
       "    .dataframe thead th {\n",
       "        text-align: right;\n",
       "    }\n",
       "</style>\n",
       "<table border=\"1\" class=\"dataframe\">\n",
       "  <thead>\n",
       "    <tr style=\"text-align: right;\">\n",
       "      <th></th>\n",
       "      <th>Unnamed: 0</th>\n",
       "      <th>url</th>\n",
       "      <th>Frequency</th>\n",
       "    </tr>\n",
       "  </thead>\n",
       "  <tbody>\n",
       "    <tr>\n",
       "      <th>0</th>\n",
       "      <td>0</td>\n",
       "      <td>news.21cn.com/social/daqian/2008/05/29/4777194...</td>\n",
       "      <td>17229</td>\n",
       "    </tr>\n",
       "    <tr>\n",
       "      <th>1</th>\n",
       "      <td>1</td>\n",
       "      <td>news.21cn.com/zhuanti/domestic/08dizhen/2008/0...</td>\n",
       "      <td>10955</td>\n",
       "    </tr>\n",
       "    <tr>\n",
       "      <th>2</th>\n",
       "      <td>2</td>\n",
       "      <td>pic.news.mop.com/gs/2008/0528/12985.shtml</td>\n",
       "      <td>9222</td>\n",
       "    </tr>\n",
       "    <tr>\n",
       "      <th>3</th>\n",
       "      <td>3</td>\n",
       "      <td>www.tudou.com/programs/view/2F3E6SGHFLA/</td>\n",
       "      <td>8229</td>\n",
       "    </tr>\n",
       "    <tr>\n",
       "      <th>4</th>\n",
       "      <td>4</td>\n",
       "      <td>bjyouth.ynet.com/view.jsp?oid=40472396</td>\n",
       "      <td>6994</td>\n",
       "    </tr>\n",
       "    <tr>\n",
       "      <th>...</th>\n",
       "      <td>...</td>\n",
       "      <td>...</td>\n",
       "      <td>...</td>\n",
       "    </tr>\n",
       "    <tr>\n",
       "      <th>514755</th>\n",
       "      <td>514755</td>\n",
       "      <td>b.faloo.com/p/22101/3.html</td>\n",
       "      <td>1</td>\n",
       "    </tr>\n",
       "    <tr>\n",
       "      <th>514756</th>\n",
       "      <td>514756</td>\n",
       "      <td>club.xilu.com/juan852495/msgview-218861-180.html</td>\n",
       "      <td>1</td>\n",
       "    </tr>\n",
       "    <tr>\n",
       "      <th>514757</th>\n",
       "      <td>514757</td>\n",
       "      <td>auction1.paipai.com/32C17C04000000000032347E00...</td>\n",
       "      <td>1</td>\n",
       "    </tr>\n",
       "    <tr>\n",
       "      <th>514758</th>\n",
       "      <td>514758</td>\n",
       "      <td>you.video.sina.com.cn/b/1555260-1195744430.html</td>\n",
       "      <td>1</td>\n",
       "    </tr>\n",
       "    <tr>\n",
       "      <th>514759</th>\n",
       "      <td>514759</td>\n",
       "      <td>yyk.39.net/nj/zonghe/detail/1cbe8.html</td>\n",
       "      <td>1</td>\n",
       "    </tr>\n",
       "  </tbody>\n",
       "</table>\n",
       "<p>514760 rows × 3 columns</p>\n",
       "</div>"
      ],
      "text/plain": [
       "        Unnamed: 0                                                url  \\\n",
       "0                0  news.21cn.com/social/daqian/2008/05/29/4777194...   \n",
       "1                1  news.21cn.com/zhuanti/domestic/08dizhen/2008/0...   \n",
       "2                2          pic.news.mop.com/gs/2008/0528/12985.shtml   \n",
       "3                3           www.tudou.com/programs/view/2F3E6SGHFLA/   \n",
       "4                4             bjyouth.ynet.com/view.jsp?oid=40472396   \n",
       "...            ...                                                ...   \n",
       "514755      514755                         b.faloo.com/p/22101/3.html   \n",
       "514756      514756   club.xilu.com/juan852495/msgview-218861-180.html   \n",
       "514757      514757  auction1.paipai.com/32C17C04000000000032347E00...   \n",
       "514758      514758    you.video.sina.com.cn/b/1555260-1195744430.html   \n",
       "514759      514759             yyk.39.net/nj/zonghe/detail/1cbe8.html   \n",
       "\n",
       "        Frequency  \n",
       "0           17229  \n",
       "1           10955  \n",
       "2            9222  \n",
       "3            8229  \n",
       "4            6994  \n",
       "...           ...  \n",
       "514755          1  \n",
       "514756          1  \n",
       "514757          1  \n",
       "514758          1  \n",
       "514759          1  \n",
       "\n",
       "[514760 rows x 3 columns]"
      ]
     },
     "execution_count": 1,
     "metadata": {},
     "output_type": "execute_result"
    }
   ],
   "source": [
    "import numpy as np \n",
    "import pandas as pd \n",
    "import seaborn as sns\n",
    "data=pd.read_csv(\"top_url.csv\",sep=\",\")\n",
    "data"
   ]
  },
  {
   "cell_type": "code",
   "execution_count": 2,
   "id": "28acec11",
   "metadata": {},
   "outputs": [
    {
     "name": "stdout",
     "output_type": "stream",
     "text": [
      "        Unnamed: 0                                                url  \\\n",
      "0                0  news.21cn.com/social/daqian/2008/05/29/4777194...   \n",
      "1                1  news.21cn.com/zhuanti/domestic/08dizhen/2008/0...   \n",
      "2                2          pic.news.mop.com/gs/2008/0528/12985.shtml   \n",
      "3                3           www.tudou.com/programs/view/2F3E6SGHFLA/   \n",
      "4                4             bjyouth.ynet.com/view.jsp?oid=40472396   \n",
      "...            ...                                                ...   \n",
      "514755      514755                         b.faloo.com/p/22101/3.html   \n",
      "514756      514756   club.xilu.com/juan852495/msgview-218861-180.html   \n",
      "514757      514757  auction1.paipai.com/32C17C04000000000032347E00...   \n",
      "514758      514758    you.video.sina.com.cn/b/1555260-1195744430.html   \n",
      "514759      514759             yyk.39.net/nj/zonghe/detail/1cbe8.html   \n",
      "\n",
      "        Frequency  target  rating  \n",
      "0           17229       0       4  \n",
      "1           10955       0       4  \n",
      "2            9222       0       4  \n",
      "3            8229       0       4  \n",
      "4            6994       0       4  \n",
      "...           ...     ...     ...  \n",
      "514755          1       0       0  \n",
      "514756          1       0       0  \n",
      "514757          1       0       0  \n",
      "514758          1       0       0  \n",
      "514759          1       0       0  \n",
      "\n",
      "[514760 rows x 5 columns]\n"
     ]
    },
    {
     "data": {
      "text/plain": [
       "0    507484\n",
       "1      6119\n",
       "2       937\n",
       "3       147\n",
       "4        73\n",
       "Name: rating, dtype: int64"
      ]
     },
     "execution_count": 2,
     "metadata": {},
     "output_type": "execute_result"
    }
   ],
   "source": [
    "data['target']=0\n",
    "conditions = [\n",
    "    data['Frequency'] >=500,\n",
    "    (data['Frequency'] <500 )& (data['Frequency']>=200),\n",
    "    (data['Frequency'] <200) & (data['Frequency']>=50),\n",
    "    (data['Frequency'] <50) & (data['Frequency']>=10)]\n",
    "rating = [4,3,2,1]\n",
    "data['rating'] = np.select(conditions, rating, default=0)\n",
    "print(data)\n",
    "data.rating.value_counts()"
   ]
  },
  {
   "cell_type": "code",
   "execution_count": 3,
   "id": "8f993101",
   "metadata": {},
   "outputs": [
    {
     "data": {
      "text/html": [
       "<div>\n",
       "<style scoped>\n",
       "    .dataframe tbody tr th:only-of-type {\n",
       "        vertical-align: middle;\n",
       "    }\n",
       "\n",
       "    .dataframe tbody tr th {\n",
       "        vertical-align: top;\n",
       "    }\n",
       "\n",
       "    .dataframe thead th {\n",
       "        text-align: right;\n",
       "    }\n",
       "</style>\n",
       "<table border=\"1\" class=\"dataframe\">\n",
       "  <thead>\n",
       "    <tr style=\"text-align: right;\">\n",
       "      <th></th>\n",
       "      <th>Unnamed: 0</th>\n",
       "      <th>url</th>\n",
       "      <th>Frequency</th>\n",
       "      <th>target</th>\n",
       "      <th>rating</th>\n",
       "    </tr>\n",
       "  </thead>\n",
       "  <tbody>\n",
       "    <tr>\n",
       "      <th>73</th>\n",
       "      <td>73</td>\n",
       "      <td>ent.sina.com.cn/m/2006-04-01/ba1035054.shtml</td>\n",
       "      <td>499</td>\n",
       "      <td>0</td>\n",
       "      <td>3</td>\n",
       "    </tr>\n",
       "    <tr>\n",
       "      <th>74</th>\n",
       "      <td>74</td>\n",
       "      <td>www.51dy.com/</td>\n",
       "      <td>483</td>\n",
       "      <td>0</td>\n",
       "      <td>3</td>\n",
       "    </tr>\n",
       "    <tr>\n",
       "      <th>75</th>\n",
       "      <td>75</td>\n",
       "      <td>zhidao.baidu.com/question/43403775</td>\n",
       "      <td>478</td>\n",
       "      <td>0</td>\n",
       "      <td>3</td>\n",
       "    </tr>\n",
       "    <tr>\n",
       "      <th>76</th>\n",
       "      <td>76</td>\n",
       "      <td>www.136136.com/LB5000/CGI-BIN/topic.cgi?forum=...</td>\n",
       "      <td>475</td>\n",
       "      <td>0</td>\n",
       "      <td>3</td>\n",
       "    </tr>\n",
       "    <tr>\n",
       "      <th>77</th>\n",
       "      <td>77</td>\n",
       "      <td>www.wfggw.com/</td>\n",
       "      <td>473</td>\n",
       "      <td>0</td>\n",
       "      <td>3</td>\n",
       "    </tr>\n",
       "    <tr>\n",
       "      <th>...</th>\n",
       "      <td>...</td>\n",
       "      <td>...</td>\n",
       "      <td>...</td>\n",
       "      <td>...</td>\n",
       "      <td>...</td>\n",
       "    </tr>\n",
       "    <tr>\n",
       "      <th>514755</th>\n",
       "      <td>514755</td>\n",
       "      <td>b.faloo.com/p/22101/3.html</td>\n",
       "      <td>1</td>\n",
       "      <td>0</td>\n",
       "      <td>0</td>\n",
       "    </tr>\n",
       "    <tr>\n",
       "      <th>514756</th>\n",
       "      <td>514756</td>\n",
       "      <td>club.xilu.com/juan852495/msgview-218861-180.html</td>\n",
       "      <td>1</td>\n",
       "      <td>0</td>\n",
       "      <td>0</td>\n",
       "    </tr>\n",
       "    <tr>\n",
       "      <th>514757</th>\n",
       "      <td>514757</td>\n",
       "      <td>auction1.paipai.com/32C17C04000000000032347E00...</td>\n",
       "      <td>1</td>\n",
       "      <td>0</td>\n",
       "      <td>0</td>\n",
       "    </tr>\n",
       "    <tr>\n",
       "      <th>514758</th>\n",
       "      <td>514758</td>\n",
       "      <td>you.video.sina.com.cn/b/1555260-1195744430.html</td>\n",
       "      <td>1</td>\n",
       "      <td>0</td>\n",
       "      <td>0</td>\n",
       "    </tr>\n",
       "    <tr>\n",
       "      <th>514759</th>\n",
       "      <td>514759</td>\n",
       "      <td>yyk.39.net/nj/zonghe/detail/1cbe8.html</td>\n",
       "      <td>1</td>\n",
       "      <td>0</td>\n",
       "      <td>0</td>\n",
       "    </tr>\n",
       "  </tbody>\n",
       "</table>\n",
       "<p>514687 rows × 5 columns</p>\n",
       "</div>"
      ],
      "text/plain": [
       "        Unnamed: 0                                                url  \\\n",
       "73              73       ent.sina.com.cn/m/2006-04-01/ba1035054.shtml   \n",
       "74              74                                      www.51dy.com/   \n",
       "75              75                 zhidao.baidu.com/question/43403775   \n",
       "76              76  www.136136.com/LB5000/CGI-BIN/topic.cgi?forum=...   \n",
       "77              77                                     www.wfggw.com/   \n",
       "...            ...                                                ...   \n",
       "514755      514755                         b.faloo.com/p/22101/3.html   \n",
       "514756      514756   club.xilu.com/juan852495/msgview-218861-180.html   \n",
       "514757      514757  auction1.paipai.com/32C17C04000000000032347E00...   \n",
       "514758      514758    you.video.sina.com.cn/b/1555260-1195744430.html   \n",
       "514759      514759             yyk.39.net/nj/zonghe/detail/1cbe8.html   \n",
       "\n",
       "        Frequency  target  rating  \n",
       "73            499       0       3  \n",
       "74            483       0       3  \n",
       "75            478       0       3  \n",
       "76            475       0       3  \n",
       "77            473       0       3  \n",
       "...           ...     ...     ...  \n",
       "514755          1       0       0  \n",
       "514756          1       0       0  \n",
       "514757          1       0       0  \n",
       "514758          1       0       0  \n",
       "514759          1       0       0  \n",
       "\n",
       "[514687 rows x 5 columns]"
      ]
     },
     "execution_count": 3,
     "metadata": {},
     "output_type": "execute_result"
    }
   ],
   "source": [
    "data2=data[data['rating']<4]\n",
    "data2"
   ]
  },
  {
   "cell_type": "code",
   "execution_count": 4,
   "id": "8317a51d",
   "metadata": {},
   "outputs": [
    {
     "data": {
      "text/plain": [
       "[Text(0.5, 0, 'word label'),\n",
       " Text(0, 0.5, 'word frequency'),\n",
       " Text(0.5, 1.0, 'word frequency with different labels')]"
      ]
     },
     "execution_count": 4,
     "metadata": {},
     "output_type": "execute_result"
    },
    {
     "data": {
      "image/png": "[encoded data removed]",
      "text/plain": [
       "<Figure size 432x288 with 1 Axes>"
      ]
     },
     "metadata": {
      "needs_background": "light"
     },
     "output_type": "display_data"
    }
   ],
   "source": [
    "bx = sns.boxplot(x=\"rating\", y='Frequency', data =data2)\n",
    "bx.set(xlabel='word label', ylabel='word frequency', title='word frequency with different labels')"
   ]
  },
  {
   "cell_type": "code",
   "execution_count": 5,
   "id": "7342459d",
   "metadata": {},
   "outputs": [
    {
     "data": {
      "text/plain": [
       "[Text(0.5, 0, 'word label'),\n",
       " Text(0, 0.5, 'word frequency'),\n",
       " Text(0.5, 1.0, 'word frequency with different labels')]"
      ]
     },
     "execution_count": 5,
     "metadata": {},
     "output_type": "execute_result"
    },
    {
     "data": {
      "image/png": "[encoded data removed]",
      "text/plain": [
       "<Figure size 432x288 with 1 Axes>"
      ]
     },
     "metadata": {
      "needs_background": "light"
     },
     "output_type": "display_data"
    }
   ],
   "source": [
    "bx = sns.violinplot(x=\"rating\", y='Frequency', data = data2)\n",
    "bx.set(xlabel='word label', ylabel='word frequency', title='word frequency with different labels')"
   ]
  },
  {
   "cell_type": "code",
   "execution_count": null,
   "id": "e4f4016b",
   "metadata": {},
   "outputs": [],
   "source": [
    "bx = sns.swarmplot(x=\"rating\", y=\"Frequency\", data = data2);\n",
    "bx.set(xlabel='word label', ylabel='word frequency', title='word frequency with different labels')"
   ]
  }
 ],
 "metadata": {
  "kernelspec": {
   "display_name": "Python 3 (ipykernel)",
   "language": "python",
   "name": "python3"
  },
  "language_info": {
   "codemirror_mode": {
    "name": "ipython",
    "version": 3
   },
   "file_extension": ".py",
   "mimetype": "text/x-python",
   "name": "python",
   "nbconvert_exporter": "python",
   "pygments_lexer": "ipython3",
   "version": "3.9.7"
  },
  "latex_envs": {
   "LaTeX_envs_menu_present": true,
   "autoclose": false,
   "autocomplete": true,
   "bibliofile": "biblio.bib",
   "cite_by": "apalike",
   "current_citInitial": 1,
   "eqLabelWithNumbers": true,
   "eqNumInitial": 1,
   "hotkeys": {
    "equation": "Ctrl-E",
    "itemize": "Ctrl-I"
   },
   "labels_anchors": false,
   "latex_user_defs": false,
   "report_style_numbering": false,
   "user_envs_cfg": false
  }
 },
 "nbformat": 4,
 "nbformat_minor": 5
}
