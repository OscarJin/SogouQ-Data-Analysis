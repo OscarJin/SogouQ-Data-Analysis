{
 "cells": [
  {
   "cell_type": "code",
   "execution_count": 12,
   "id": "db5871f1",
   "metadata": {},
   "outputs": [
    {
     "data": {
      "text/html": [
       "<div>\n",
       "<style scoped>\n",
       "    .dataframe tbody tr th:only-of-type {\n",
       "        vertical-align: middle;\n",
       "    }\n",
       "\n",
       "    .dataframe tbody tr th {\n",
       "        vertical-align: top;\n",
       "    }\n",
       "\n",
       "    .dataframe thead th {\n",
       "        text-align: right;\n",
       "    }\n",
       "</style>\n",
       "<table border=\"1\" class=\"dataframe\">\n",
       "  <thead>\n",
       "    <tr style=\"text-align: right;\">\n",
       "      <th></th>\n",
       "      <th>word</th>\n",
       "      <th>Frequency</th>\n",
       "    </tr>\n",
       "  </thead>\n",
       "  <tbody>\n",
       "    <tr>\n",
       "      <th>0</th>\n",
       "      <td>地震</td>\n",
       "      <td>50608</td>\n",
       "    </tr>\n",
       "    <tr>\n",
       "      <th>1</th>\n",
       "      <td>汶川</td>\n",
       "      <td>38552</td>\n",
       "    </tr>\n",
       "    <tr>\n",
       "      <th>2</th>\n",
       "      <td>哄抢</td>\n",
       "      <td>38159</td>\n",
       "    </tr>\n",
       "    <tr>\n",
       "      <th>3</th>\n",
       "      <td>救灾物资</td>\n",
       "      <td>38153</td>\n",
       "    </tr>\n",
       "    <tr>\n",
       "      <th>4</th>\n",
       "      <td>原因</td>\n",
       "      <td>35437</td>\n",
       "    </tr>\n",
       "    <tr>\n",
       "      <th>...</th>\n",
       "      <td>...</td>\n",
       "      <td>...</td>\n",
       "    </tr>\n",
       "    <tr>\n",
       "      <th>87196</th>\n",
       "      <td>出题</td>\n",
       "      <td>1</td>\n",
       "    </tr>\n",
       "    <tr>\n",
       "      <th>87197</th>\n",
       "      <td>坐斑疮</td>\n",
       "      <td>1</td>\n",
       "    </tr>\n",
       "    <tr>\n",
       "      <th>87198</th>\n",
       "      <td>hpu</td>\n",
       "      <td>1</td>\n",
       "    </tr>\n",
       "    <tr>\n",
       "      <th>87199</th>\n",
       "      <td>之陆</td>\n",
       "      <td>1</td>\n",
       "    </tr>\n",
       "    <tr>\n",
       "      <th>87200</th>\n",
       "      <td>财经新闻</td>\n",
       "      <td>1</td>\n",
       "    </tr>\n",
       "  </tbody>\n",
       "</table>\n",
       "<p>87201 rows × 2 columns</p>\n",
       "</div>"
      ],
      "text/plain": [
       "       word  Frequency\n",
       "0        地震      50608\n",
       "1        汶川      38552\n",
       "2        哄抢      38159\n",
       "3      救灾物资      38153\n",
       "4        原因      35437\n",
       "...     ...        ...\n",
       "87196    出题          1\n",
       "87197   坐斑疮          1\n",
       "87198   hpu          1\n",
       "87199    之陆          1\n",
       "87200  财经新闻          1\n",
       "\n",
       "[87201 rows x 2 columns]"
      ]
     },
     "execution_count": 12,
     "metadata": {},
     "output_type": "execute_result"
    }
   ],
   "source": [
    "import pandas as pd \n",
    "import numpy as np\n",
    "import seaborn as sns\n",
    "data = pd.read_csv('keywords.txt', sep=\"\\t\",names=['word','Frequency'])\n",
    "data"
   ]
  },
  {
   "cell_type": "code",
   "execution_count": 13,
   "id": "0b6e61e7",
   "metadata": {},
   "outputs": [
    {
     "data": {
      "text/html": [
       "<div>\n",
       "<style scoped>\n",
       "    .dataframe tbody tr th:only-of-type {\n",
       "        vertical-align: middle;\n",
       "    }\n",
       "\n",
       "    .dataframe tbody tr th {\n",
       "        vertical-align: top;\n",
       "    }\n",
       "\n",
       "    .dataframe thead th {\n",
       "        text-align: right;\n",
       "    }\n",
       "</style>\n",
       "<table border=\"1\" class=\"dataframe\">\n",
       "  <thead>\n",
       "    <tr style=\"text-align: right;\">\n",
       "      <th></th>\n",
       "      <th>Frequency</th>\n",
       "    </tr>\n",
       "  </thead>\n",
       "  <tbody>\n",
       "    <tr>\n",
       "      <th>count</th>\n",
       "      <td>87201.000000</td>\n",
       "    </tr>\n",
       "    <tr>\n",
       "      <th>mean</th>\n",
       "      <td>27.290719</td>\n",
       "    </tr>\n",
       "    <tr>\n",
       "      <th>std</th>\n",
       "      <td>381.382374</td>\n",
       "    </tr>\n",
       "    <tr>\n",
       "      <th>min</th>\n",
       "      <td>1.000000</td>\n",
       "    </tr>\n",
       "    <tr>\n",
       "      <th>25%</th>\n",
       "      <td>1.000000</td>\n",
       "    </tr>\n",
       "    <tr>\n",
       "      <th>50%</th>\n",
       "      <td>3.000000</td>\n",
       "    </tr>\n",
       "    <tr>\n",
       "      <th>75%</th>\n",
       "      <td>9.000000</td>\n",
       "    </tr>\n",
       "    <tr>\n",
       "      <th>max</th>\n",
       "      <td>50608.000000</td>\n",
       "    </tr>\n",
       "  </tbody>\n",
       "</table>\n",
       "</div>"
      ],
      "text/plain": [
       "          Frequency\n",
       "count  87201.000000\n",
       "mean      27.290719\n",
       "std      381.382374\n",
       "min        1.000000\n",
       "25%        1.000000\n",
       "50%        3.000000\n",
       "75%        9.000000\n",
       "max    50608.000000"
      ]
     },
     "execution_count": 13,
     "metadata": {},
     "output_type": "execute_result"
    }
   ],
   "source": [
    "data.describe()"
   ]
  },
  {
   "cell_type": "code",
   "execution_count": 14,
   "id": "4f01dac4",
   "metadata": {},
   "outputs": [
    {
     "name": "stdout",
     "output_type": "stream",
     "text": [
      "       word  Frequency  target  rating\n",
      "0        地震      50608       0       4\n",
      "1        汶川      38552       0       4\n",
      "2        哄抢      38159       0       4\n",
      "3      救灾物资      38153       0       4\n",
      "4        原因      35437       0       4\n",
      "...     ...        ...     ...     ...\n",
      "87196    出题          1       0       0\n",
      "87197   坐斑疮          1       0       0\n",
      "87198   hpu          1       0       0\n",
      "87199    之陆          1       0       0\n",
      "87200  财经新闻          1       0       0\n",
      "\n",
      "[87201 rows x 4 columns]\n"
     ]
    },
    {
     "data": {
      "text/plain": [
       "0    65559\n",
       "1    16043\n",
       "2     4016\n",
       "3      962\n",
       "4      621\n",
       "Name: rating, dtype: int64"
      ]
     },
     "execution_count": 14,
     "metadata": {},
     "output_type": "execute_result"
    }
   ],
   "source": [
    "data['target']=0\n",
    "conditions = [\n",
    "    data['Frequency'] >=500,\n",
    "    (data['Frequency'] <500 )& (data['Frequency']>=200),\n",
    "    (data['Frequency'] <200) & (data['Frequency']>=50),\n",
    "    (data['Frequency'] <50) & (data['Frequency']>=10)]\n",
    "rating = [4,3,2,1]\n",
    "data['rating'] = np.select(conditions, rating, default=0)\n",
    "print(data)\n",
    "data.rating.value_counts()"
   ]
  },
  {
   "cell_type": "code",
   "execution_count": 20,
   "id": "ff33025b",
   "metadata": {},
   "outputs": [
    {
     "data": {
      "text/plain": [
       "[Text(0.5, 0, 'Word Label'),\n",
       " Text(0, 0.5, 'Word Frequency'),\n",
       " Text(0.5, 1.0, 'Word Frequency With Different Labels')]"
      ]
     },
     "execution_count": 20,
     "metadata": {},
     "output_type": "execute_result"
    },
    {
     "data": {
      "image/png": "[encoded data removed]",
      "text/plain": [
       "<Figure size 432x288 with 1 Axes>"
      ]
     },
     "metadata": {
      "needs_background": "light"
     },
     "output_type": "display_data"
    }
   ],
   "source": [
    "data2=data[data['rating']<4]\n",
    "bx = sns.boxplot(x=\"rating\", y='Frequency', data =data2)\n",
    "bx.set(xlabel='Word Label', ylabel='Word Frequency', title='Word Frequency With Different Labels')"
   ]
  },
  {
   "cell_type": "code",
   "execution_count": null,
   "id": "47bc9d4e",
   "metadata": {},
   "outputs": [],
   "source": [
    "bx = sns.violinplot(x=\"rating\", y='Frequency', data = data2)\n",
    "bx.set(xlabel='Word Label', ylabel='Word Frequency', title='Word Frequency With Different Labels')"
   ]
  },
  {
   "cell_type": "code",
   "execution_count": null,
   "id": "b7a17a1d",
   "metadata": {},
   "outputs": [],
   "source": []
  },
  {
   "cell_type": "code",
   "execution_count": 8,
   "id": "30644ebf",
   "metadata": {},
   "outputs": [],
   "source": [
    "keywords.to_csv('keywords.csv',sep=\",\")"
   ]
  }
 ],
 "metadata": {
  "kernelspec": {
   "display_name": "Python 3 (ipykernel)",
   "language": "python",
   "name": "python3"
  },
  "language_info": {
   "codemirror_mode": {
    "name": "ipython",
    "version": 3
   },
   "file_extension": ".py",
   "mimetype": "text/x-python",
   "name": "python",
   "nbconvert_exporter": "python",
   "pygments_lexer": "ipython3",
   "version": "3.9.7"
  },
  "latex_envs": {
   "LaTeX_envs_menu_present": true,
   "autoclose": false,
   "autocomplete": true,
   "bibliofile": "biblio.bib",
   "cite_by": "apalike",
   "current_citInitial": 1,
   "eqLabelWithNumbers": true,
   "eqNumInitial": 1,
   "hotkeys": {
    "equation": "Ctrl-E",
    "itemize": "Ctrl-I"
   },
   "labels_anchors": false,
   "latex_user_defs": false,
   "report_style_numbering": false,
   "user_envs_cfg": false
  }
 },
 "nbformat": 4,
 "nbformat_minor": 5
}
